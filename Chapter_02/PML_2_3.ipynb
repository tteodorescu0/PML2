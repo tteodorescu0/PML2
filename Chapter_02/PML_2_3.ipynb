{
  "nbformat": 4,
  "nbformat_minor": 0,
  "metadata": {
    "colab": {
      "provenance": [],
      "authorship_tag": "ABX9TyOHBnxKVxqmNSRyoG/Mq+53",
      "include_colab_link": true
    },
    "kernelspec": {
      "name": "python3",
      "display_name": "Python 3"
    },
    "language_info": {
      "name": "python"
    }
  },
  "cells": [
    {
      "cell_type": "markdown",
      "metadata": {
        "id": "view-in-github",
        "colab_type": "text"
      },
      "source": [
        "<a href=\"https://colab.research.google.com/github/tteodorescu0/PML2/blob/main/Chapter_02/PML_2_3.ipynb\" target=\"_parent\"><img src=\"https://colab.research.google.com/assets/colab-badge.svg\" alt=\"Open In Colab\"/></a>"
      ]
    },
    {
      "cell_type": "markdown",
      "source": [
        "#Exercise 2.3 [Conditional independence iff joint factorizes*]"
      ],
      "metadata": {
        "id": "ozVVjmWxDMfC"
      }
    },
    {
      "cell_type": "markdown",
      "source": [
        "Definition 1: $X ⊥ Y |Z$ iff $p(x, y|z) = p(x|z)p(y|z)$ for all $x, y, z$ such that $p(z) > 0$.\n",
        "\n",
        "Definition 2: $X ⊥ Y |Z$ iff there exist functions $g$ and $h$ such that $p(x, y|z) = g(x, z)h(y, z)$ for all $x,y,z$ such that $p(z) > 0$.\n",
        "\n",
        "Show that the two definitions are equivalent."
      ],
      "metadata": {
        "id": "V81YJG3iDJOO"
      }
    },
    {
      "cell_type": "markdown",
      "source": [
        "#Solution"
      ],
      "metadata": {
        "id": "HGUi287TEmeB"
      }
    },
    {
      "cell_type": "markdown",
      "source": [
        "For Defintion 1 $\\implies$ Definition 2, define $g$ and $h$ by $g(x,z)=p(x|z)$ and $h(y,z)=p(y|z)$ for all $x,y,z$ such that $p(z) > 0$.\n",
        "\n",
        "\n",
        "For Defintion 2 $\\implies$ Definition 1, there are two cases depending whether the random variables are discrete or continous.\n",
        "\n",
        "**Discrete case**\n",
        "\n",
        "In the discrete case, $\\sum_{x,y}p(x,y|z)=1$ implies that $(\\sum_{x}g(x,z))(\\sum_{y}h(y,z))=1$. Define $G$ and $H$ by $G(x,z)=g(x,z)/(\\sum_{x_1}g(x_1,z))$ and $H(y,z)=h(y,z)/(\\sum_{y_1}h(y_1,z))$ for all $x,y,z$ such that $p(z) > 0$.\n",
        "\n",
        "Note that $p(x,y|z)=G(x,z)H(y,z)$ for all $x,y,z$ such that $p(z) > 0$. Note also that $\\sum_{x}G(x,z)=1$ and $\\sum_{y}H(y,z)=1$.\n",
        "\n",
        "To complete the solution in the discrete case, we'll show that $p(x|z)=G(x,z)$ and $p(y|z)=H(y,z)$.\n",
        "\n",
        "Since $p(x|z)=\\sum_{y}p(x,y|z)$, it follows that $p(x|z)=\\sum_{y}G(x,z)H(y,z)=G(x,z)\\sum_{y}H(y,z)=G(x,z)$.\n",
        "\n",
        "Similarly, $p(y|z)=\\sum_{x}p(x,y|z)$, it follows that $p(y|z)=\\sum_{x}G(x,z)H(y,z)=H(y,z)\\sum_{x}G(x,z)=H(y,z)$.\n",
        "\n",
        "**Continuous case**\n",
        "\n",
        "The solution in the continuous case is the same as the solution in the discrete case except we'll use integrals instead of summations.\n",
        "\n",
        "In the continuous case, $\\int\\int p(x,y|z)dxdy=1$ implies that $(\\int g(x,z)dx)(\\int h(y,z)dy)=1$. Define $G$ and $H$ by $G(x,z)=g(x,z)/(\\int g(x_1,z)dx_1)$ and $H(y,z)=h(y,z)/(\\int h(y_1,z)dy_1)$ for all $x,y,z$ such that $p(z) > 0$.\n",
        "\n",
        "Note that $p(x,y|z)=G(x,z)H(y,z)$ for all $x,y,z$ such that $p(z) > 0$. Note also that $\\int G(x,z)dx=1$ and $\\int H(y,z)dy=1$.\n",
        "\n",
        "To complete the solution in the continuous case, we'll show that $p(x|z)=G(x,z)$ and $p(y|z)=H(y,z)$.\n",
        "\n",
        "Since $p(x|z)=\\int p(x,y|z)dy$, it follows that $p(x|z)=\\int G(x,z)H(y,z)dy=G(x,z)\\int H(y,z)dy=G(x,z)$.\n",
        "\n",
        "Similarly, $p(y|z)=\\int p(x,y|z)dx$, it follows that $p(y|z)=\\int G(x,z)H(y,z)dx=H(y,z)\\int G(x,z)dx=H(y,z)$."
      ],
      "metadata": {
        "id": "rgT0KUeVE3lO"
      }
    }
  ]
}