{
  "nbformat": 4,
  "nbformat_minor": 0,
  "metadata": {
    "colab": {
      "provenance": [],
      "authorship_tag": "ABX9TyOU7aBj2rtGwSTfatAaPGbi",
      "include_colab_link": true
    },
    "kernelspec": {
      "name": "python3",
      "display_name": "Python 3"
    },
    "language_info": {
      "name": "python"
    }
  },
  "cells": [
    {
      "cell_type": "markdown",
      "metadata": {
        "id": "view-in-github",
        "colab_type": "text"
      },
      "source": [
        "<a href=\"https://colab.research.google.com/github/tteodorescu0/PML2/blob/main/Chapter_02/PML_2_9.ipynb\" target=\"_parent\"><img src=\"https://colab.research.google.com/assets/colab-badge.svg\" alt=\"Open In Colab\"/></a>"
      ]
    },
    {
      "cell_type": "markdown",
      "source": [
        "#Exercise 2.9 [Bayes rule for medical diagnosis*]"
      ],
      "metadata": {
        "id": "ozVVjmWxDMfC"
      }
    },
    {
      "cell_type": "markdown",
      "source": [
        "After your yearly checkup, the doctor has bad news and good news. The bad news is that you tested positive for a serious disease, and that the test is 99% accurate (i.e., the probability of testing positive given that you have the disease is 0.99, as is the probability of testing negative given that you don’t have the disease). The good news is that this is a rare disease, striking only one in 10,000 people. What are the chances that you actually have the disease? (Show your calculations as well as giving the final result.)\n"
      ],
      "metadata": {
        "id": "V81YJG3iDJOO"
      }
    },
    {
      "cell_type": "markdown",
      "source": [
        "#Solution"
      ],
      "metadata": {
        "id": "HGUi287TEmeB"
      }
    },
    {
      "cell_type": "markdown",
      "source": [
        "The answer is $0.00980392156$.\n",
        "\n",
        "Let $H = 1$ be the event \"you have the disease\", and $H = 0$ be the event \"you do not have the disease\". Let $Y =1$ be the event \"your test is positive\", and $Y =0$ be the event \"your test is negative\". We want to compute $p(H=1|Y =1)$.\n",
        "\n",
        "It is given that $p(H=1)=0.0001$ and $p(H=0)=0.9999$. It is also given that $p(Y=1|H=1) = 0.99$ and $p(Y=0|H=0) = 0.99$, which implies that $p(Y=0|H=1) = 0.01$ and $p(Y=1|H=0) = 0.01$.\n",
        "\n",
        "Since $p(H=1|Y =1)=\\frac{p(Y=1|H=1)p(H=1)}{p(Y=1)}=\\frac{p(Y=1|H=1)p(H=1)}{p(Y=1|H=0)p(H=0)+p(Y=1|H=1)p(H=1)}$, we have that $p(H=1|Y =1)=\\frac{0.99\\times 0.0001}{0.01\\times 0.9999 + 0.99\\times 0.0001}=0.00980392156$."
      ],
      "metadata": {
        "id": "rgT0KUeVE3lO"
      }
    }
  ]
}