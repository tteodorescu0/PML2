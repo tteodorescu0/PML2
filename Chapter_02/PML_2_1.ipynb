{
  "nbformat": 4,
  "nbformat_minor": 0,
  "metadata": {
    "colab": {
      "provenance": [],
      "authorship_tag": "ABX9TyPPBYrWB3g6wsqxBUZjmS7+",
      "include_colab_link": true
    },
    "kernelspec": {
      "name": "python3",
      "display_name": "Python 3"
    },
    "language_info": {
      "name": "python"
    }
  },
  "cells": [
    {
      "cell_type": "markdown",
      "metadata": {
        "id": "view-in-github",
        "colab_type": "text"
      },
      "source": [
        "<a href=\"https://colab.research.google.com/github/tteodorescu0/PML2/blob/main/Chapter_02/PML_2_1.ipynb\" target=\"_parent\"><img src=\"https://colab.research.google.com/assets/colab-badge.svg\" alt=\"Open In Colab\"/></a>"
      ]
    },
    {
      "cell_type": "markdown",
      "source": [
        "#Exercise 2.1"
      ],
      "metadata": {
        "id": "ozVVjmWxDMfC"
      }
    },
    {
      "cell_type": "markdown",
      "source": [
        "a. Let $H ∈ \\{1, . . . , K\\}$ be a discrete random variable, and let $e_1$ and $e_2$ be the observed values of two other random variables $E_1$ and $E_2$. Suppose we wish to calculate the vector $\\vec{p}(H|e_1,e_2) = (p(H = 1|e_1,e_2),...,p(H = K|e_1,e_2))$. Which of the following sets of numbers are sufficient for the calculation?\n",
        "\n",
        "i. $p(e_1,e_2), p(H), p(e_1|H), p(e_2|H)$\n",
        "\n",
        "ii. $p(e_1,e_2), p(H), p(e_1,e_2|H)$\n",
        "\n",
        "iii. $p(e_1|H), p(e_2|H), p(H)$\n",
        "\n",
        "b. Now suppose we now assume $E_1 ⊥ E_2|H$ (i.e., $E_1$ and $E_2$ are conditionally independent given $H$). Which of the above 3 sets are sufficient now?\n",
        "\n",
        "Show your calculations as well as giving the final result. Hint: use Bayes rule."
      ],
      "metadata": {
        "id": "V81YJG3iDJOO"
      }
    },
    {
      "cell_type": "markdown",
      "source": [
        "#Part a"
      ],
      "metadata": {
        "id": "HGUi287TEmeB"
      }
    },
    {
      "cell_type": "markdown",
      "source": [
        "i is not sufficient. In the last expression below, we know $p(H=h)$ and $p(E_1=e_1, E_2=e_2)$, but not $p(E_1=e_1, E_2=e_2|H=h)$.\n",
        "\n",
        "\n",
        "\n",
        "\n",
        "$p(H=h| E_1=e_1, E_2=e_2)\n",
        "=\\frac{p(H=h, E_1=e_1, E_2=e_2)}{p(E_1=e_1, E_2=e_2)}\n",
        "=\\frac{p(E_1=e_1, E_2=e_2|H=h)p(H=h)}{p(E_1=e_1, E_2=e_2)}$"
      ],
      "metadata": {
        "id": "rgT0KUeVE3lO"
      }
    },
    {
      "cell_type": "markdown",
      "source": [
        "ii is sufficient because we know all the terms in the last expression below.\n",
        "\n",
        "$p(H=h| E_1=e_1, E_2=e_2)\n",
        "=\\frac{p(H=h, E_1=e_1, E_2=e_2)}{p(E_1=e_1, E_2=e_2)}\n",
        "=\\frac{p(E_1=e_1, E_2=e_2|H=h)p(H=h)}{p(E_1=e_1, E_2=e_2)}$"
      ],
      "metadata": {
        "id": "RuN0meWJHxou"
      }
    },
    {
      "cell_type": "markdown",
      "source": [
        "iii is not sufficient because In the last expression below, we know $p(H=h)$ but neither $p(E_1=e_1, E_2=e_2)$ nor $p(E_1=e_1, E_2=e_2|H=h)$.\n",
        "\n",
        "$p(H=h| E_1=e_1, E_2=e_2)\n",
        "=\\frac{p(H=h, E_1=e_1, E_2=e_2)}{p(E_1=e_1, E_2=e_2)}\n",
        "=\\frac{p(E_1=e_1, E_2=e_2|H=h)p(H=h)}{p(E_1=e_1, E_2=e_2)}$"
      ],
      "metadata": {
        "id": "aGh3roY4Mbdn"
      }
    },
    {
      "cell_type": "code",
      "source": [],
      "metadata": {
        "id": "tijLIVDhNr4B"
      },
      "execution_count": null,
      "outputs": []
    },
    {
      "cell_type": "markdown",
      "source": [
        "#Part b"
      ],
      "metadata": {
        "id": "cidRfGS9NWcl"
      }
    },
    {
      "cell_type": "markdown",
      "source": [
        "Since $E_1 ⊥ E_2|H$, we have $p(E_1=e_1, E_2=e_2|H=h) = p(E_1=e_1|H=h) p(E_2=e_2|H=h)$.\n",
        "\n",
        "That means i is now sufficient, ii continues to be sufficient, and iii is still insufficient (because we don't know $p(E_1=e_1, E_2=e_2)$)."
      ],
      "metadata": {
        "id": "32dn587_NX1b"
      }
    }
  ]
}