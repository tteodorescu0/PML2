{
  "nbformat": 4,
  "nbformat_minor": 0,
  "metadata": {
    "colab": {
      "provenance": [],
      "authorship_tag": "ABX9TyP1DoJAJauSMmGS6ZlcSN1b",
      "include_colab_link": true
    },
    "kernelspec": {
      "name": "python3",
      "display_name": "Python 3"
    },
    "language_info": {
      "name": "python"
    }
  },
  "cells": [
    {
      "cell_type": "markdown",
      "metadata": {
        "id": "view-in-github",
        "colab_type": "text"
      },
      "source": [
        "<a href=\"https://colab.research.google.com/github/tteodorescu0/PML2/blob/main/Chapter_02/PML_2_11.ipynb\" target=\"_parent\"><img src=\"https://colab.research.google.com/assets/colab-badge.svg\" alt=\"Open In Colab\"/></a>"
      ]
    },
    {
      "cell_type": "markdown",
      "source": [
        "#Exercise 2.11 [Probabilities are sensitive to the form of the question that was used to generate the answer*]"
      ],
      "metadata": {
        "id": "ozVVjmWxDMfC"
      }
    },
    {
      "cell_type": "markdown",
      "source": [
        "My neighbor has two children. Assuming that the gender of a child is like a coin flip, it is most likely, a priori, that my neighbor has one boy and one girl, with probability 1/2. The other possibilities—two boys or two girls—have probabilities 1/4 and 1/4.\n",
        "\n",
        "a. Suppose I ask him whether he has any boys, and he says yes. What is the probability that one child is a girl?\n",
        "\n",
        "b. Suppose instead that I happen to see one of his children run by, and it is a boy. What is the probability that the other child is a girl?"
      ],
      "metadata": {
        "id": "V81YJG3iDJOO"
      }
    },
    {
      "cell_type": "markdown",
      "source": [
        "#Part a"
      ],
      "metadata": {
        "id": "HGUi287TEmeB"
      }
    },
    {
      "cell_type": "markdown",
      "source": [
        "The answer is $\\frac{2}{3}$.\n",
        "\n",
        "The original sample space is BB,BG,GB,GG, where each outcome is equally likely to occur with probability 1/4. After my neighbor says that he has at least one boy, the new sample sample space is BB, BG, GB, where again each outcome is equally likely to occur but this time with probabilily 1/3. The probability that at least one of the siblings is a girl is 0+1/3+1/3=2/3.\n",
        "\n",
        "Another way to see this is as follows.\n",
        "\n",
        "$p(BB|\\text{at least one boy})=\\frac{p(BB\\text{ }\\mathbf{and}\\text{ }\\text{at least one boy})}{p(\\text{at least one boy})}= \\frac{p(BB)}{p(\\text{at least one boy})}=\\frac{1/4}{3/4}=\\frac{1}{3}$\n",
        "$p(BG|\\text{at least one boy})=\\frac{p(BG\\text{ }\\mathbf{and}\\text{ }\\text{at least one boy})}{p(\\text{at least one boy})}= \\frac{p(BG)}{p(\\text{at least one boy})}=\\frac{1/4}{3/4}=\\frac{1}{3}$\n",
        "$p(GB|\\text{at least one boy})=\\frac{p(GB\\text{ }\\mathbf{and}\\text{ }\\text{at least one boy})}{p(\\text{at least one boy})}= \\frac{p(GB)}{p(\\text{at least one boy})}=\\frac{1/4}{3/4}=\\frac{1}{3}$\n",
        "$p(GG|\\text{at least one boy})=\\frac{p(GG\\text{ }\\mathbf{and}\\text{ }\\text{at least one boy})}{p(\\text{at least one boy})}= \\frac{p(\\emptyset)}{p(\\text{at least one boy})}=\\frac{0}{3/4}=0$\n",
        "$p(\\text{at least one girl}|\\text{at least one boy})=p(BG|\\text{at least one boy})+p(BG|\\text{at least one boy})=\\frac{1}{3}+\\frac{1}{3}=\\frac{2}{3}$."
      ],
      "metadata": {
        "id": "rgT0KUeVE3lO"
      }
    },
    {
      "cell_type": "markdown",
      "source": [
        "#Part b"
      ],
      "metadata": {
        "id": "axMl3H2Bu6BH"
      }
    },
    {
      "cell_type": "markdown",
      "source": [
        "The answer is $\\frac{1}{2}$.\n",
        "\n",
        "I see a boy, but I don't know if it's the older sibling or the younger sibling. Assume that I am equally likely to see the older sibling or the younger sibling.\n",
        "\n",
        "$p(\\text{other child is a girl}) = p(\\text{other child is a girl}|\\text{I see the older sibling and it's a boy})\\times p(\\text{I see the older sibling and it's a boy}) + p(\\text{other child is a girl}|\\text{I see the younger sibling and it's a boy})\\times p(\\text{I see the younger sibling and it's a boy})=\\frac{1}{2}\\times \\frac{1}{2} + \\frac{1}{2}\\times \\frac{1}{2}= \\frac{1}{2}$."
      ],
      "metadata": {
        "id": "_CmF_7YNu8LE"
      }
    }
  ]
}