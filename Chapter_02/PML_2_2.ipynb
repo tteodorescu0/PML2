{
  "nbformat": 4,
  "nbformat_minor": 0,
  "metadata": {
    "colab": {
      "provenance": [],
      "authorship_tag": "ABX9TyOQH/D9+d5X9GJs75kKxP1G",
      "include_colab_link": true
    },
    "kernelspec": {
      "name": "python3",
      "display_name": "Python 3"
    },
    "language_info": {
      "name": "python"
    }
  },
  "cells": [
    {
      "cell_type": "markdown",
      "metadata": {
        "id": "view-in-github",
        "colab_type": "text"
      },
      "source": [
        "<a href=\"https://colab.research.google.com/github/tteodorescu0/PML2/blob/main/Chapter_02/PML_2_2.ipynb\" target=\"_parent\"><img src=\"https://colab.research.google.com/assets/colab-badge.svg\" alt=\"Open In Colab\"/></a>"
      ]
    },
    {
      "cell_type": "markdown",
      "source": [
        "#Exercise 2.2 [Pairwise independence does not imply mutual independence]"
      ],
      "metadata": {
        "id": "ozVVjmWxDMfC"
      }
    },
    {
      "cell_type": "markdown",
      "source": [
        "Show that pairwise independence between all pairs of variables does not necessarily imply mutual independence. It suffices to give a counterexample."
      ],
      "metadata": {
        "id": "V81YJG3iDJOO"
      }
    },
    {
      "cell_type": "markdown",
      "source": [
        "#Counterexample"
      ],
      "metadata": {
        "id": "HGUi287TEmeB"
      }
    },
    {
      "cell_type": "markdown",
      "source": [
        "Flip a fair coin twice and record the results. The sample space is $\\{HH,HT,TH,TT\\}$.\n",
        "\n",
        "\n",
        "Let $X_1$ be \"the first flip is heads\", $X_2$ be \"the second flip is heads\", and $X_3$ be \"the first and second flip have different results\".\n",
        "\n",
        "\n",
        "It follows that $X_1$ corresponds to $\\{HH,HT\\}$, $X_2$ corresponds to $\\{HH,TH\\}$, and $X_3$ corresponds to $\\{HT,TH\\}$, so $p(X_i)=\\frac{1}{2}$ for all $i$.\n",
        "\n",
        "\n",
        "It also follows that $X_1 \\cap X_2$ corresponds to $\\{HH\\}$, $X_1\\cap X_3$ corresponds to $\\{HT\\}$, and $X_2\\cap X_3$ corresponds to $\\{TH\\}$, so $p(X_i, X_j)=\\frac{1}{4}$ for all $i\\neq j$.\n",
        "\n",
        "\n",
        "We can conclude that $X_1$, $X_2$, and $X_3$ are pairwise independent because $p(X_i, X_j)=p(X_i)p(X_j)$ for all $i\\neq j$.\n",
        "\n",
        "\n",
        "On the other hand $X_1$, $X_2$, and $X_3$ are not mutually independent because $X_1\\cap X_2\\cap X_3$ corresponds to $\\emptyset$, so $p(X_1, X_2, X_3)\\neq p(X_1)p(X_2)p(X_3)$.\n",
        "\n"
      ],
      "metadata": {
        "id": "rgT0KUeVE3lO"
      }
    }
  ]
}