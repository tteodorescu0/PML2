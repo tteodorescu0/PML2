{
  "nbformat": 4,
  "nbformat_minor": 0,
  "metadata": {
    "colab": {
      "provenance": [],
      "authorship_tag": "ABX9TyN9QuoTQO22vkJUIavCUgEm",
      "include_colab_link": true
    },
    "kernelspec": {
      "name": "python3",
      "display_name": "Python 3"
    },
    "language_info": {
      "name": "python"
    }
  },
  "cells": [
    {
      "cell_type": "markdown",
      "metadata": {
        "id": "view-in-github",
        "colab_type": "text"
      },
      "source": [
        "<a href=\"https://colab.research.google.com/github/tteodorescu0/PML2/blob/main/Chapter_02/PML_2_5.ipynb\" target=\"_parent\"><img src=\"https://colab.research.google.com/assets/colab-badge.svg\" alt=\"Open In Colab\"/></a>"
      ]
    },
    {
      "cell_type": "markdown",
      "source": [
        "#Exercise 2.5 [Expected value of the minimum of two rv’s*]"
      ],
      "metadata": {
        "id": "ozVVjmWxDMfC"
      }
    },
    {
      "cell_type": "markdown",
      "source": [
        "Suppose $X, Y$ are two points sampled independently and uniformly at random from the interval $[0, 1]$. What is the expected location of the leftmost point?"
      ],
      "metadata": {
        "id": "V81YJG3iDJOO"
      }
    },
    {
      "cell_type": "markdown",
      "source": [
        "#Solution"
      ],
      "metadata": {
        "id": "HGUi287TEmeB"
      }
    },
    {
      "cell_type": "markdown",
      "source": [
        "The answer is $\\frac{1}{3}$.\n",
        "\n",
        "The expected value is the value of the double intergral $\\iint_{[0,1]\\times[0,1]}\\mathrm{min}(x,y) dxdy$. The square $[0,1]\\times[0,1]$ can be decomposed as the union of $D_1=\\{(x,y)|0\\leq y\\leq x\\leq 1\\}$ and $D_2=\\{(x,y)|0\\leq x\\leq y\\leq 1\\}$. Note that $\\mathrm{min}(x,y)=y$ on $D_1$ and $\\mathrm{min}(x,y)=x$ on $D_2$. It follows that $\\iint_{[0,1]\\times[0,1]}\\mathrm{min}(x,y) dxdy = \\iint_{D_1}\\mathrm{min}(x,y) dxdy + \\iint_{D_2}\\mathrm{min}(x,y) dxdy = \\iint_{D_1} y dxdy + \\iint_{D_2} x dxdy $.\n",
        "\n",
        "Since $D_1=\\{(x,y)|0\\leq y\\leq x\\leq 1\\}$, the integral $\\iint_{D_1}\\mathrm{min}(x,y) dxdy$ is equal to $\\int_0^1\\int_0^xydydx$, which is equal to $\\int_0^1 \\frac{x^2}{3}dx$, and therefore is $\\frac{1}{6}$.\n",
        "\n",
        "SImilarly, since $D_1=\\{(x,y)|0\\leq x\\leq y\\leq 1\\}$, the integral $\\iint_{D_2}\\mathrm{min}(x,y) dxdy$ is equal to $\\int_0^1\\int_0^y xdxdy$, which is equal to $\\int_0^1 \\frac{y^2}{3}dy$, and therefore is $\\frac{1}{6}$.\n",
        "\n",
        "It follows that the expected value of $\\mathrm{min}(X,Y)$ is $\\frac{1}{6}+\\frac{1}{6}=\\frac{1}{3}$."
      ],
      "metadata": {
        "id": "rgT0KUeVE3lO"
      }
    }
  ]
}